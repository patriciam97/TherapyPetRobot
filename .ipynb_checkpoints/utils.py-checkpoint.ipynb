{
 "cells": [
  {
   "cell_type": "code",
   "execution_count": 2,
   "metadata": {},
   "outputs": [],
   "source": [
    "from scipy.io import wavfile\n",
    "import matplotlib.pyplot as plt\n",
    "\n",
    "sounds = []\n",
    "sampling_rate, audio = wavfile.read('sounds/labrador-barking-daniel_simon.wav')\n",
    "# # sounds.append([sampling_rate,audio])\n",
    "# sounds.append(audio)\n",
    "# sampling_rate, audio = wavfile.read('sounds/Dog Howling At Moon-SoundBible.com-1369876823.wav')\n",
    "# # sounds.append([sampling_rate,audio])\n",
    "# sounds.append(audio)\n",
    "# sampling_rate, audio = wavfile.read('sounds/small-dog-barking_daniel-simion.wav')\n",
    "# # sounds.append([sampling_rate,audio])\n",
    "# sounds.append(audio)\n"
   ]
  },
  {
   "cell_type": "code",
   "execution_count": null,
   "metadata": {},
   "outputs": [],
   "source": [
    "# import numpy as np\n",
    "# print([ x * (x > 0) for x in sounds])\n",
    "print(audio)\n",
    "print(len(audio))"
   ]
  },
  {
   "cell_type": "code",
   "execution_count": null,
   "metadata": {},
   "outputs": [],
   "source": [
    "import wave,struct,random\n",
    "\n",
    "noise_output = wave.open('noisez.wav', 'w')\n",
    "noise_output.setparams((2, 2, 44100, 0, 'NONE', 'not compressed'))\n",
    "start = random.randint(1000, 846500)\n",
    "end = random.randint(10000, 946500)\n",
    "for x,y in audio[0:100000][1::2]:\n",
    "    packed_value = struct.pack('h', int(y/8) if (int(y/8)<32767 and int(y/8)>-32767) else (-32767 if x <0 else 32767) )\n",
    "    noise_output.writeframes(packed_value)\n",
    "    noise_output.writeframes(packed_value)\n",
    "#     noise_output.writeframes(packed_value)\n",
    "#     noise_output.writeframes(packed_value)\n",
    "noise_output.close()"
   ]
  },
  {
   "cell_type": "code",
   "execution_count": 3,
   "metadata": {},
   "outputs": [],
   "source": [
    "def get_random(audio):\n",
    "    length = len(audio)\n",
    "    min_duration = 500000\n",
    "    start = random.randint(0, length)\n",
    "    end = random.randint(0, length)\n",
    "    while (end-start<min_duration):\n",
    "        start = random.randint(0, length)\n",
    "        end = random.randint(0, length)\n",
    "    return audio[start:end+1]"
   ]
  },
  {
   "cell_type": "code",
   "execution_count": 4,
   "metadata": {},
   "outputs": [],
   "source": [
    "def scary(status,sound):\n",
    "    return(sound)"
   ]
  },
  {
   "cell_type": "code",
   "execution_count": 9,
   "metadata": {},
   "outputs": [],
   "source": [
    "import wave,struct,random\n",
    "\n",
    "def create_sound(sound,repeats,status):\n",
    "    noise_output = wave.open('noise1.wav', 'w')\n",
    "    noise_output.setparams((2, 2, 44100, 0, 'NONE', 'not compressed'))\n",
    "    if status>8: \n",
    "        sound = sound[1::2]\n",
    "    print(len(sound))\n",
    "    for x,y in sound:\n",
    "        packed_value = struct.pack('h', int(x/8) if (int(x/8)<32767 and int(x/8)>-32767) else (-32767 if x <0 else 32767) )\n",
    "        noise_output.writeframes(packed_value)\n",
    "#         while repeats>0:\n",
    "#             print(\"added\")\n",
    "#             noise_output.writeframes(packed_value)\n",
    "#             repeats-=1\n",
    "    print(\"saved\")\n",
    "    noise_output.close()"
   ]
  },
  {
   "cell_type": "code",
   "execution_count": 11,
   "metadata": {},
   "outputs": [
    {
     "name": "stdout",
     "output_type": "stream",
     "text": [
      "4\n",
      "946500\n",
      "added\n",
      "added\n",
      "added\n",
      "added\n",
      "saved\n"
     ]
    }
   ],
   "source": [
    "status = 0 \n",
    "repeats = 2\n",
    "# status 0 - 2 dog is scared\n",
    "# status 3 - 7 dog is relaxed\n",
    "# status 8 - 10 dog is happy\n",
    "\n",
    "# get random sample from sound \n",
    "# sound = get_random(audio) \n",
    "sound = audio\n",
    "switcher_sound = {\n",
    "    0 : scary(0,sound),\n",
    "#     1 : scary(1),\n",
    "#     2 : scary(2),\n",
    "#     3 : relaxed(3),\n",
    "#     4 : relaxed(4)\n",
    "}\n",
    "switcher_repeats = {\n",
    "    0 : repeats+2,\n",
    "#     1 : scary(1),\n",
    "#     2 : scary(2),\n",
    "#     3 : relaxed(3),\n",
    "#     4 : relaxed(4)\n",
    "}\n",
    "print(switcher_repeats[status])\n",
    "create_sound(audio,switcher_repeats[status],status)\n"
   ]
  },
  {
   "cell_type": "code",
   "execution_count": null,
   "metadata": {},
   "outputs": [],
   "source": [
    "    "
   ]
  },
  {
   "cell_type": "code",
   "execution_count": null,
   "metadata": {},
   "outputs": [],
   "source": []
  }
 ],
 "metadata": {
  "kernelspec": {
   "display_name": "Python 3",
   "language": "python",
   "name": "python3"
  },
  "language_info": {
   "codemirror_mode": {
    "name": "ipython",
    "version": 3
   },
   "file_extension": ".py",
   "mimetype": "text/x-python",
   "name": "python",
   "nbconvert_exporter": "python",
   "pygments_lexer": "ipython3",
   "version": "3.7.4"
  }
 },
 "nbformat": 4,
 "nbformat_minor": 4
}
