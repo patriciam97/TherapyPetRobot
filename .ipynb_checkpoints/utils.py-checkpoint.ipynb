{
 "cells": [
  {
   "cell_type": "code",
   "execution_count": 79,
   "metadata": {},
   "outputs": [
    {
     "name": "stderr",
     "output_type": "stream",
     "text": [
      "/usr/local/lib/python3.7/site-packages/scipy/io/wavfile.py:273: WavFileWarning: Chunk (non-data) not understood, skipping it.\n",
      "  WavFileWarning)\n"
     ]
    }
   ],
   "source": [
    "from scipy.io import wavfile\n",
    "import matplotlib.pyplot as plt\n",
    "\n",
    "sounds = []\n",
    "sampling_rate, audio = wavfile.read('sounds/labrador-barking-daniel_simon.wav')\n",
    "# # sounds.append([sampling_rate,audio])\n",
    "# sounds.append(audio)\n",
    "# sampling_rate, audio = wavfile.read('sounds/Dog Howling At Moon-SoundBible.com-1369876823.wav')\n",
    "# # sounds.append([sampling_rate,audio])\n",
    "# sounds.append(audio)\n",
    "# sampling_rate, audio = wavfile.read('sounds/small-dog-barking_daniel-simion.wav')\n",
    "# # sounds.append([sampling_rate,audio])\n",
    "# sounds.append(audio)\n"
   ]
  },
  {
   "cell_type": "code",
   "execution_count": 75,
   "metadata": {},
   "outputs": [
    {
     "name": "stdout",
     "output_type": "stream",
     "text": [
      "[[  9   4]\n",
      " [-21  -3]\n",
      " [ 14  -3]\n",
      " ...\n",
      " [ 43  22]\n",
      " [ 62  44]\n",
      " [ 60  29]]\n",
      "1049502\n"
     ]
    }
   ],
   "source": [
    "# import numpy as np\n",
    "# print([ x * (x > 0) for x in sounds])\n",
    "print(audio)\n",
    "print(len(audio))"
   ]
  },
  {
   "cell_type": "code",
   "execution_count": 80,
   "metadata": {},
   "outputs": [],
   "source": [
    "import wave,struct,random\n",
    "\n",
    "noise_output = wave.open('noisez.wav', 'w')\n",
    "noise_output.setparams((2, 2, 44100, 0, 'NONE', 'not compressed'))\n",
    "\n",
    "for x,y in audio[:100000]:\n",
    "#     value = random.randint(-32767, 32767)\n",
    "    packed_value = struct.pack('h', y)\n",
    "    noise_output.writeframes(packed_value)\n",
    "    noise_output.writeframes(packed_value)\n",
    "#     noise_output.writeframes(packed_value)\n",
    "#     noise_output.writeframes(packed_value)\n",
    "noise_output.close()"
   ]
  },
  {
   "cell_type": "code",
   "execution_count": null,
   "metadata": {},
   "outputs": [],
   "source": []
  }
 ],
 "metadata": {
  "kernelspec": {
   "display_name": "Python 3",
   "language": "python",
   "name": "python3"
  },
  "language_info": {
   "codemirror_mode": {
    "name": "ipython",
    "version": 3
   },
   "file_extension": ".py",
   "mimetype": "text/x-python",
   "name": "python",
   "nbconvert_exporter": "python",
   "pygments_lexer": "ipython3",
   "version": "3.7.4"
  }
 },
 "nbformat": 4,
 "nbformat_minor": 4
}
