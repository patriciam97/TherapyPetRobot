{
 "cells": [
  {
   "cell_type": "code",
   "execution_count": 2,
   "metadata": {},
   "outputs": [],
   "source": [
    "from scipy.io import wavfile\n",
    "import matplotlib.pyplot as plt\n",
    "\n",
    "sounds = []\n",
    "sampling_rate, audio = wavfile.read('sounds/labrador-barking-daniel_simon.wav')\n",
    "# # sounds.append([sampling_rate,audio])\n",
    "# sounds.append(audio)\n",
    "# sampling_rate, audio = wavfile.read('sounds/Dog Howling At Moon-SoundBible.com-1369876823.wav')\n",
    "# # sounds.append([sampling_rate,audio])\n",
    "# sounds.append(audio)\n",
    "# sampling_rate, audio = wavfile.read('sounds/small-dog-barking_daniel-simion.wav')\n",
    "# # sounds.append([sampling_rate,audio])\n",
    "# sounds.append(audio)\n"
   ]
  },
  {
   "cell_type": "code",
   "execution_count": null,
   "metadata": {},
   "outputs": [],
   "source": [
    "# import numpy as np\n",
    "# print([ x * (x > 0) for x in sounds])\n",
    "print(audio)\n",
    "print(len(audio))"
   ]
  },
  {
   "cell_type": "code",
   "execution_count": 96,
   "metadata": {},
   "outputs": [],
   "source": [
    "import wave,struct,random\n",
    "\n",
    "noise_output = wave.open('noisez.wav', 'w')\n",
    "noise_output.setparams((2, 2, 44100, 0, 'NONE', 'not compressed'))\n",
    "start = random.randint(1000, 846500)\n",
    "end = random.randint(10000, 946500)\n",
    "for x,y in audio[0:100000][1::2]:\n",
    "    packed_value = struct.pack('h', int(y/8) if (int(y/8)<32767 and int(y/8)>-32767) else (-32767 if x <0 else 32767) )\n",
    "    noise_output.writeframes(packed_value)\n",
    "    noise_output.writeframes(packed_value)\n",
    "#     noise_output.writeframes(packed_value)\n",
    "#     noise_output.writeframes(packed_value)\n",
    "noise_output.close()"
   ]
  },
  {
   "cell_type": "code",
   "execution_count": 3,
   "metadata": {},
   "outputs": [],
   "source": [
    "def get_random(audio,status):\n",
    "    length = len(audio)\n",
    "    min_duration = 300000\n",
    "    if status>=8:\n",
    "        min_duration = 500000  \n",
    "    start = random.randint(0, length)\n",
    "    while (start+min_duration>length):\n",
    "        start = random.randint(0, length)\n",
    "#         end = random.randint(0, length)\n",
    "#     end = random.randint(start, length)\n",
    "#     while (end-start<min_duration):\n",
    "#         start = random.randint(0, length)\n",
    "#         end = random.randint(0, length)\n",
    "    return audio[start:start+min_duration]"
   ]
  },
  {
   "cell_type": "code",
   "execution_count": 4,
   "metadata": {},
   "outputs": [],
   "source": [
    "def scary(status,sound):\n",
    "    mapping = {\n",
    "        0 :8,\n",
    "        1: 6,\n",
    "        2: 3\n",
    "    }\n",
    "    level = mapping[status]\n",
    "    for x,y in sound:\n",
    "        x = int(x*level) if (int(x*level)<32767 and int(x*level)>-32767) else (-32767 if x <0 else 32767)\n",
    "    return(sound)"
   ]
  },
  {
   "cell_type": "code",
   "execution_count": 5,
   "metadata": {},
   "outputs": [],
   "source": [
    "def relaxed(status,sound):\n",
    "    mapping = {\n",
    "        3 : 1,\n",
    "        4 : 3,\n",
    "        5 : 6,\n",
    "        6 : 8,\n",
    "        7 : 10,\n",
    "    }\n",
    "    level = mapping[status]\n",
    "    for x,y in sound:\n",
    "        x = int(x/level) if (int(x/level)<32767 and int(x/level)>-32767) else (-32767 if x <0 else 32767)\n",
    "    return(sound)"
   ]
  },
  {
   "cell_type": "code",
   "execution_count": 6,
   "metadata": {},
   "outputs": [],
   "source": [
    "def countList(lst1, lst2): \n",
    "    return [sub[item] for item in range(len(lst2)) \n",
    "                      for sub in [lst1, lst2]] "
   ]
  },
  {
   "cell_type": "code",
   "execution_count": 10,
   "metadata": {},
   "outputs": [],
   "source": [
    "def happy(status,sound):\n",
    "#     mapping = {\n",
    "#         8 : 2,\n",
    "#         9 : 3,\n",
    "#         10 : 4,\n",
    "#     }\n",
    "    mapping = {\n",
    "        8 : sound[1::2],\n",
    "        9 : sound[1::2],\n",
    "        10 : sound[1::2],\n",
    "    }\n",
    "    sound = mapping[status]\n",
    "    sound = countList(sound,sound)\n",
    "    level = 8\n",
    "    for x,y in sound:\n",
    "        x = int(x*level) if (int(x*level)<32767 and int(x*level)>-32767) else (-32767 if x <0 else 32767)\n",
    "#     return(mapping[status])\n",
    "#     level = mapping[status]\n",
    "#     for x,y in sound[1::2]:\n",
    "#         x = int(x*level) if (int(x*level)<32767 and int(x*level)>-32767) else (-32767 if x <0 else 32767)\n",
    "    return(sound)"
   ]
  },
  {
   "cell_type": "code",
   "execution_count": 8,
   "metadata": {},
   "outputs": [],
   "source": [
    "import wave,struct,random\n",
    "\n",
    "def create_sound(sound,repeats,status):\n",
    "    title = 'sound_'+str(status)+'.wav'\n",
    "    noise_output = wave.open(title, 'w')\n",
    "    noise_output.setparams((2, 2, 44100, 0, 'NONE', 'not compressed'))\n",
    "    if status>8: \n",
    "        sound = sound[1::2]\n",
    "    print(len(sound))\n",
    "    for x,y in sound:\n",
    "        packed_value = struct.pack('h', y)\n",
    "        noise_output.writeframes(packed_value)\n",
    "        while repeats>=2:\n",
    "            print(\"added\")\n",
    "            noise_output.writeframes(packed_value)\n",
    "            repeats-=1\n",
    "    print(\"saved\")\n",
    "    noise_output.close()"
   ]
  },
  {
   "cell_type": "code",
   "execution_count": 11,
   "metadata": {},
   "outputs": [
    {
     "name": "stdout",
     "output_type": "stream",
     "text": [
      "250000\n",
      "added\n",
      "saved\n"
     ]
    }
   ],
   "source": [
    "status = 8\n",
    "repeats = 2\n",
    "# status 0 - 2 dog is scared\n",
    "# status 3 - 7 dog is relaxed\n",
    "# status 8 - 10 dog is happy\n",
    "\n",
    "# get random sample from sound \n",
    "sound = get_random(audio,status) \n",
    "    \n",
    "switcher_sound = {\n",
    "    0 : scary(0,sound),\n",
    "    1 : scary(1,sound),\n",
    "    2 : scary(2,sound),\n",
    "    3 : relaxed(3,sound),\n",
    "    4 : relaxed(4,sound),\n",
    "    5 : relaxed(5,sound),\n",
    "    6 : relaxed(6,sound),\n",
    "    7 : relaxed(7,sound),\n",
    "    8 : happy (8,sound),\n",
    "    9 : happy (9,sound),\n",
    "    10 : happy (10,sound),\n",
    "}\n",
    "switcher_repeats = {\n",
    "    0 : repeats+2,\n",
    "    1 : repeats+1,\n",
    "    2 : repeats,\n",
    "    3 : repeats,\n",
    "    4 : repeats,\n",
    "    5 : repeats,\n",
    "    6 : repeats,\n",
    "    7 : repeats,\n",
    "    8 : repeats,\n",
    "    9 : repeats,\n",
    "    10 : repeats,\n",
    "}\n",
    "\n",
    "create_sound(switcher_sound[status],switcher_repeats[status],status)\n"
   ]
  },
  {
   "cell_type": "code",
   "execution_count": null,
   "metadata": {},
   "outputs": [],
   "source": [
    "    "
   ]
  },
  {
   "cell_type": "code",
   "execution_count": null,
   "metadata": {},
   "outputs": [],
   "source": []
  }
 ],
 "metadata": {
  "kernelspec": {
   "display_name": "Python 3",
   "language": "python",
   "name": "python3"
  },
  "language_info": {
   "codemirror_mode": {
    "name": "ipython",
    "version": 3
   },
   "file_extension": ".py",
   "mimetype": "text/x-python",
   "name": "python",
   "nbconvert_exporter": "python",
   "pygments_lexer": "ipython3",
   "version": "3.7.4"
  }
 },
 "nbformat": 4,
 "nbformat_minor": 4
}
